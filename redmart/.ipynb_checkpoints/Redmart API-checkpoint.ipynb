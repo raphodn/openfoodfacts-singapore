{
 "cells": [
  {
   "cell_type": "code",
   "execution_count": 1,
   "metadata": {},
   "outputs": [],
   "source": [
    "import csv\n",
    "import json\n",
    "import requests\n",
    "\n",
    "OPENFOODFACTS_API = 'https://world.openfoodfacts.org/api/v0'\n",
    "REDMART_SEARCH_API = 'https://api.redmart.com/v1.6.0/catalog/search'"
   ]
  },
  {
   "cell_type": "markdown",
   "metadata": {},
   "source": [
    "## Redmart: API"
   ]
  },
  {
   "cell_type": "markdown",
   "metadata": {},
   "source": [
    "#### Category: Redmart Label"
   ]
  },
  {
   "cell_type": "code",
   "execution_count": 4,
   "metadata": {},
   "outputs": [
    {
     "name": "stdout",
     "output_type": "stream",
     "text": [
      "[{'category_tags': ['food-cupboard', 'cereal', 'healthier-choices', 'oats-6939', 'redmart-label', 'food-cupboard-6928', 'beverages', 'hot-cereals', 'instant-8296', 'chinese-new-year', 'redmart-label-3450', 'food-cupboard-10407', 'food-cupboard', 'breakfast-on-the-go', 'breakfast-drinks', 'chocolate-nutritional-drinks', 'instant-cereal', 'under8', 'payday-sale', 'btbasics', 'kitchen-hacks', 'breakfast-deals', 'oats', 'gourmet-breakfast-club', 'hungry-ghost-festival', 'clearance', 'clearance2', 'private-label', 'aus-day', 'valentines-day-0', 'cafe-treats-made-easy', 'smoothies-20409', 'march-mania', '38-and-under', 'food-impulse-21290'], 'id': 52905, 'title': 'RedMart Instant Oatmeal', 'desc': 'Our Australian instant oatmeal is 100-Percent wholegrain and high in fiber. Cooks in one and half minutes makes for a quick and easy breakfast.', 'sku': '8881304288255', 'categories': [1, 14, 6928, 6937, 2, 8296, 3450, 10407, 1, 216, 11611, 12824, 14164, 14391, 11084, 14910, 14966, 281, 16275, 17807, 20221, 20403, 20409, 21286, 21290], 'types': [6939, 8298, 10410, 6940, 1535, 14571, 20413, 21317], 'details': {'prod_type': 0, 'uri': 'redmart--instant-oatmeal-52905', 'status': 1, 'is_new': 0.0, 'storage_class': 'AmbientFB', 'country_of_origin': 'Australia'}, 'filters': {'mfr_name': 'UniGrain Pty Ltd', 'trending_frequency': 6, 'is_organic': 0, 'country_of_origin': 'Australia', 'vendor_name': 'Raw', 'brand_name': 'RedMart', 'brand_uri': 'redmart', 'frequency': 703, 'brand': 145664}, 'img': {'h': 0, 'w': 0, 'name': '/i/m/88813042882550027_1478140929051.jpg', 'position': 0}, 'images': [{'h': 0, 'w': 0, 'name': '/i/m/88813042882550027_1478140929051.jpg', 'position': 0}, {'h': 0, 'w': 0, 'name': '/i/m/88813042882550028_1478140931287.jpg', 'position': 1}], 'measure': {'wt_or_vol': '1 kg', 'size': 0.0}, 'pricing': {'on_sale': 0, 'price': 5.0, 'promo_price': 0.0, 'savings': 0.0}, 'warehouse': {'measure': {'vol_metric': '', 'wt': 1.0, 'wt_metric': 'kg', 'l': 0.0, 'w': 0.0, 'h': 0.0}}, 'attributes': {'dag': []}, 'description_fields': {'secondary': [{'name': 'Ingredients', 'content': 'Oats 100% GMO Free.'}, {'name': 'Material Composition', 'content': ''}, {'name': 'Storage Guidelines', 'content': 'Store in a cool, dry place. Once opened, transfer into an airtight container.'}, {'name': 'Cooking & Preparation', 'content': ''}, {'name': 'Return Policy', 'content': ''}, {'name': 'Certifications & Endorsements', 'content': ''}, {'name': 'Washing/Cleaning Instructions', 'content': ''}, {'name': 'About the Brand', 'content': ''}], 'primary': [{'name': 'Dimensions', 'content': ''}, {'name': 'Dietary Information', 'content': ''}, {'name': 'How to Use', 'content': 'Place 50g of oats into a large non-metallic bowl, add 300ml of cold water or mlk. Cook on full power for 1 minutes (800W) or 50 seconds (900W). Stir and then cook on a full power for a further 30 seconds (800W/900W). Leave to stand for 1 minute. Add sugar or salt to taste. Do not reheat.'}, {'name': 'MAHP/MAHS', 'content': ''}, {'name': 'Country of Origin', 'content': 'Australia'}]}, 'product_life': {'time': 45, 'metric': 'D', 'is_minimum': True, 'time_including_delivery': 46}, 'serviceability': ['STANDARD'], 'inventory': {'atp_status': 0, 'max_sale_qty': 48, 'qty_in_carts': 0, 'qty_in_stock': 48, 'stock_status': 1, 'stock_type': 5.0, 'next_available_date': '2019-04-08T15:51:20Z', 'limited_stock_status': 0, 'atp_lots': [{'from_date': '2019-04-08T15:51:20Z', 'to_date': '2020-02-01T15:59:59Z', 'stock_status': 1, 'qty_in_stock': 48, 'qty_in_carts': 0}, {'from_date': '2019-04-08T15:51:20Z', 'to_date': '2020-02-28T15:59:59Z', 'stock_status': 1, 'qty_in_stock': 48, 'qty_in_carts': 0}], 'fulfillment_source': 'SG.WESTFC', 'delivery_option': 'STANDARD'}, 'inventories': [{'atp_status': 0, 'max_sale_qty': 48, 'qty_in_carts': 0, 'qty_in_stock': 48, 'stock_status': 1, 'stock_type': 5.0, 'next_available_date': '2019-04-08T15:51:20Z', 'limited_stock_status': 0, 'atp_lots': [{'from_date': '2019-04-08T15:51:20Z', 'to_date': '2020-02-01T15:59:59Z', 'stock_status': 1, 'qty_in_stock': 48, 'qty_in_carts': 0}, {'from_date': '2019-04-08T15:51:20Z', 'to_date': '2020-02-28T15:59:59Z', 'stock_status': 1, 'qty_in_stock': 48, 'qty_in_carts': 0}], 'fulfillment_source': 'SG.WESTFC', 'delivery_option': 'STANDARD'}], 'pr': 1}]\n"
     ]
    }
   ],
   "source": [
    "params = {\n",
    "    'q': 'redmart',\n",
    "    'category': 'redmart-label',\n",
    "    'pageSize': 1,\n",
    "    'sort': 1024\n",
    "}\n",
    "response = requests.get(REDMART_SEARCH_API, params=params)\n",
    "response_json = response.json()\n",
    "print(response_json['products'])"
   ]
  },
  {
   "cell_type": "code",
   "execution_count": null,
   "metadata": {},
   "outputs": [],
   "source": []
  }
 ],
 "metadata": {
  "kernelspec": {
   "display_name": "Python 3",
   "language": "python",
   "name": "python3"
  },
  "language_info": {
   "codemirror_mode": {
    "name": "ipython",
    "version": 3
   },
   "file_extension": ".py",
   "mimetype": "text/x-python",
   "name": "python",
   "nbconvert_exporter": "python",
   "pygments_lexer": "ipython3",
   "version": "3.7.0"
  }
 },
 "nbformat": 4,
 "nbformat_minor": 2
}
