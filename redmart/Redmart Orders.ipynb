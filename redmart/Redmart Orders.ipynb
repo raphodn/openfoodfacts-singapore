{
 "cells": [
  {
   "cell_type": "code",
   "execution_count": 22,
   "metadata": {},
   "outputs": [],
   "source": [
    "import csv\n",
    "import json\n",
    "import requests\n",
    "\n",
    "OPENFOODFACTS_API = 'https://world.openfoodfacts.org/api/v0'\n",
    "REDMART_SEARCH_API = 'https://api.redmart.com/v1.6.0/catalog/search'"
   ]
  },
  {
   "cell_type": "markdown",
   "metadata": {},
   "source": [
    "## OpenFoodFacts: methods"
   ]
  },
  {
   "cell_type": "code",
   "execution_count": 3,
   "metadata": {},
   "outputs": [],
   "source": [
    "def get_item_off_status(item_code):\n",
    "    response = requests.get(OPENFOODFACTS_API + '/product' + '/' + item_code)\n",
    "    response_json = response.json()\n",
    "    return response_json['status']"
   ]
  },
  {
   "cell_type": "markdown",
   "metadata": {},
   "source": [
    "## Redmart: methods"
   ]
  },
  {
   "cell_type": "code",
   "execution_count": 16,
   "metadata": {},
   "outputs": [],
   "source": [
    "def get_redmart_order_number_string(order):\n",
    "    if order['member_order_count'] < 10:\n",
    "        return '0{number}'.format(number=order['member_order_count'])\n",
    "    else:\n",
    "        return str(order['member_order_count'])\n",
    "\n",
    "def format_item_to_csv(item):\n",
    "    print('{item_name};{item_code};{item_off_status}'.format(item_name=item['title'], item_code=item['sku'], item_off_status=item_status))\n"
   ]
  },
  {
   "cell_type": "markdown",
   "metadata": {},
   "source": [
    "## Redmart: orders"
   ]
  },
  {
   "cell_type": "code",
   "execution_count": 10,
   "metadata": {},
   "outputs": [
    {
     "name": "stdout",
     "output_type": "stream",
     "text": [
      "Order count: 17\n",
      "['accountNumber', 'channel', 'delivery', 'items', 'state', 'store', 'total', 'publicId', 'status', 'notes', 'invoiced', 'waveStatus', 'scaleStatus', 'hoursToDeliveryCutoff', 'marketplace', 'uniqueMarketplaceSellersIds', 'cutoff', 'scaleAmendmentVersion', 'itemAmends', 'fulfillmentSource', 'billing_address', 'created_at', 'member_group', 'member_id', 'member_order_count', 'payment_method', 'shipping_address', 'total_measurements', 'ua_enabled', 'updated_at', 'delivery_option', 'display_confirmation', 'date_placed', 'cart_id', 'cart_created_at', 'cart_updated_at', 'payment_details', 'payment_type', 'payment_category', 'timeline_status', 'is_amendable', 'payment_status']\n"
     ]
    }
   ],
   "source": [
    "redmart_orders = json.load(open('redmart-orders/redmart_orders.json', 'r'))\n",
    "print('Order count: {count}'.format(count=len(redmart_orders['orders'])))\n",
    "print([*redmart_orders['orders'][0]]) # redmart_orders['orders'][0].keys()"
   ]
  },
  {
   "cell_type": "markdown",
   "metadata": {},
   "source": [
    "## Redmart: last order"
   ]
  },
  {
   "cell_type": "code",
   "execution_count": 15,
   "metadata": {},
   "outputs": [
    {
     "name": "stdout",
     "output_type": "stream",
     "text": [
      "Item count: 19\n"
     ]
    }
   ],
   "source": [
    "redmart_order_17 = json.load(open('redmart-orders/redmart_order_17.json', 'r'))\n",
    "# print(len(redmart_order_17['order']['groups']))\n",
    "print('Item count: {count}'.format(count=len(redmart_order_17['order']['items'])))"
   ]
  },
  {
   "cell_type": "markdown",
   "metadata": {},
   "source": [
    "## Redmart: last order: missing items in OpenFoodFacts"
   ]
  },
  {
   "cell_type": "code",
   "execution_count": 20,
   "metadata": {},
   "outputs": [
    {
     "name": "stdout",
     "output_type": "stream",
     "text": [
      "S&B Golden Curry Paste Amakuchi 220 Gm;074880030709;0\n",
      "RedMart Luxuriously Soft 3-Ply Toilet Tissue - 10 Rolls;9555672908716;0\n",
      "Guinness Draught;8888017992332;0\n",
      "Emborg Whipping 3s Cream;5701215346277;0\n",
      "Pauls UHT Low Fat Milk - Case;19310036017100;0\n"
     ]
    }
   ],
   "source": [
    "for item in redmart_order_17['order']['items']:\n",
    "    item_status = get_item_off_status(item['sku'])\n",
    "    if item_status == 0:\n",
    "        print('{item_name};{item_code};{item_status}'.format(item_name=item['title'], item_code=item['sku'], item_status=item_status))"
   ]
  },
  {
   "cell_type": "markdown",
   "metadata": {},
   "source": [
    "## Redmart: all orders: missing items in OpenFoodFacts"
   ]
  },
  {
   "cell_type": "code",
   "execution_count": 1,
   "metadata": {},
   "outputs": [
    {
     "ename": "NameError",
     "evalue": "name 'redmart_orders' is not defined",
     "output_type": "error",
     "traceback": [
      "\u001b[0;31m---------------------------------------------------------------------------\u001b[0m",
      "\u001b[0;31mNameError\u001b[0m                                 Traceback (most recent call last)",
      "\u001b[0;32m<ipython-input-1-004f05c369b4>\u001b[0m in \u001b[0;36m<module>\u001b[0;34m()\u001b[0m\n\u001b[0;32m----> 1\u001b[0;31m \u001b[0;32mfor\u001b[0m \u001b[0morder\u001b[0m \u001b[0;32min\u001b[0m \u001b[0mredmart_orders\u001b[0m\u001b[0;34m[\u001b[0m\u001b[0;34m'orders'\u001b[0m\u001b[0;34m]\u001b[0m\u001b[0;34m:\u001b[0m\u001b[0;34m\u001b[0m\u001b[0m\n\u001b[0m\u001b[1;32m      2\u001b[0m     \u001b[0mredmart_order_filename\u001b[0m \u001b[0;34m=\u001b[0m \u001b[0;34m'redmart_order_'\u001b[0m \u001b[0;34m+\u001b[0m \u001b[0mgetRedmartOrderNumberString\u001b[0m\u001b[0;34m(\u001b[0m\u001b[0morder\u001b[0m\u001b[0;34m)\u001b[0m \u001b[0;34m+\u001b[0m \u001b[0;34m'.json'\u001b[0m\u001b[0;34m\u001b[0m\u001b[0m\n\u001b[1;32m      3\u001b[0m     \u001b[0mredmart_order_json\u001b[0m \u001b[0;34m=\u001b[0m \u001b[0mjson\u001b[0m\u001b[0;34m.\u001b[0m\u001b[0mload\u001b[0m\u001b[0;34m(\u001b[0m\u001b[0mopen\u001b[0m\u001b[0;34m(\u001b[0m\u001b[0;34m'redmart-orders/'\u001b[0m \u001b[0;34m+\u001b[0m \u001b[0mredmart_order_filename\u001b[0m\u001b[0;34m,\u001b[0m \u001b[0;34m'r'\u001b[0m\u001b[0;34m)\u001b[0m\u001b[0;34m)\u001b[0m\u001b[0;34m\u001b[0m\u001b[0m\n\u001b[1;32m      4\u001b[0m     \u001b[0mprint\u001b[0m\u001b[0;34m(\u001b[0m\u001b[0;34m'Order #'\u001b[0m \u001b[0;34m+\u001b[0m \u001b[0mstr\u001b[0m\u001b[0;34m(\u001b[0m\u001b[0morder\u001b[0m\u001b[0;34m[\u001b[0m\u001b[0;34m'member_order_count'\u001b[0m\u001b[0;34m]\u001b[0m\u001b[0;34m)\u001b[0m\u001b[0;34m)\u001b[0m\u001b[0;34m\u001b[0m\u001b[0m\n\u001b[1;32m      5\u001b[0m     \u001b[0mprint\u001b[0m\u001b[0;34m(\u001b[0m\u001b[0;34m'Item count: {count}'\u001b[0m\u001b[0;34m.\u001b[0m\u001b[0mformat\u001b[0m\u001b[0;34m(\u001b[0m\u001b[0mcount\u001b[0m\u001b[0;34m=\u001b[0m\u001b[0mlen\u001b[0m\u001b[0;34m(\u001b[0m\u001b[0mredmart_order_json\u001b[0m\u001b[0;34m[\u001b[0m\u001b[0;34m'order'\u001b[0m\u001b[0;34m]\u001b[0m\u001b[0;34m[\u001b[0m\u001b[0;34m'items'\u001b[0m\u001b[0;34m]\u001b[0m\u001b[0;34m)\u001b[0m\u001b[0;34m)\u001b[0m\u001b[0;34m)\u001b[0m\u001b[0;34m\u001b[0m\u001b[0m\n",
      "\u001b[0;31mNameError\u001b[0m: name 'redmart_orders' is not defined"
     ]
    }
   ],
   "source": [
    "for order in redmart_orders['orders']:\n",
    "    redmart_order_filename = 'redmart_order_' + getRedmartOrderNumberString(order) + '.json'\n",
    "    redmart_order_json = json.load(open('redmart-orders/' + redmart_order_filename, 'r'))\n",
    "    print('Order #' + str(order['member_order_count']))\n",
    "    print('Item count: {count}'.format(count=len(redmart_order_json['order']['items'])))\n",
    "    for item in redmart_order_json['order']['items']:\n",
    "        item_status = get_item_off_status(item['sku'])\n",
    "        if item_status == 0:\n",
    "            print('{item_name};{item_code};{item_status}'.format(item_name=item['title'], item_code=item['sku'], item_status=item_status))\n",
    "    print()"
   ]
  },
  {
   "cell_type": "code",
   "execution_count": null,
   "metadata": {},
   "outputs": [],
   "source": []
  }
 ],
 "metadata": {
  "kernelspec": {
   "display_name": "Python 3",
   "language": "python",
   "name": "python3"
  },
  "language_info": {
   "codemirror_mode": {
    "name": "ipython",
    "version": 3
   },
   "file_extension": ".py",
   "mimetype": "text/x-python",
   "name": "python",
   "nbconvert_exporter": "python",
   "pygments_lexer": "ipython3",
   "version": "3.7.0"
  }
 },
 "nbformat": 4,
 "nbformat_minor": 2
}
